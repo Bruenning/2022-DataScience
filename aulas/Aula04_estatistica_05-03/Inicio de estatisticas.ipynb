{
 "cells": [
  {
   "cell_type": "code",
   "execution_count": 3,
   "id": "91bdebf2",
   "metadata": {},
   "outputs": [
    {
     "name": "stdout",
     "output_type": "stream",
     "text": [
      "      nome  idade sexo  peso  altura  salario e_civil\n",
      "0    teste     22    F    50    1.70     1400       S\n",
      "1  teste03     20    F    62    1.80     3000       C\n",
      "2  teste04     25    F    60    1.55     4800       S\n",
      "3  teste02     15    M    65    1.49     1240       S\n",
      "4  teste05     21    M    57    1.70     2400       C\n",
      "   fi     %\n",
      "F   3  60.0\n",
      "M   2  40.0\n"
     ]
    }
   ],
   "source": [
    "import pandas as pd\n",
    "pessoas = pd.read_csv('pessoas.csv')\n",
    "print(pessoas)\n",
    "sorted(pessoas['idade'].unique())\n",
    "pessoas['sexo'].value_counts()\n",
    "pessoas['sexo'].value_counts(normalize=True)*100\n",
    "freq=pessoas['sexo'].value_counts()\n",
    "perc=pessoas['sexo'].value_counts(normalize=True)*100\n",
    "tabela_freq= pd.DataFrame({'fi':freq, '%':perc})\n",
    "print(tabela_freq)"
   ]
  },
  {
   "cell_type": "code",
   "execution_count": null,
   "id": "4e5cd7f2",
   "metadata": {},
   "outputs": [],
   "source": []
  }
 ],
 "metadata": {
  "kernelspec": {
   "display_name": "Python 3 (ipykernel)",
   "language": "python",
   "name": "python3"
  },
  "language_info": {
   "codemirror_mode": {
    "name": "ipython",
    "version": 3
   },
   "file_extension": ".py",
   "mimetype": "text/x-python",
   "name": "python",
   "nbconvert_exporter": "python",
   "pygments_lexer": "ipython3",
   "version": "3.9.7"
  }
 },
 "nbformat": 4,
 "nbformat_minor": 5
}

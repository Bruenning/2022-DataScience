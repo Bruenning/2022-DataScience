{
 "cells": [
  {
   "cell_type": "code",
   "execution_count": 41,
   "id": "74cfe028",
   "metadata": {},
   "outputs": [
    {
     "name": "stdout",
     "output_type": "stream",
     "text": [
      "Moda \n"
     ]
    },
    {
     "data": {
      "text/plain": [
       "0    12\n",
       "1    15\n",
       "dtype: int64"
      ]
     },
     "execution_count": 41,
     "metadata": {},
     "output_type": "execute_result"
    }
   ],
   "source": [
    "import pandas as pd\n",
    "lista_panda = pd.Series([13,25,15,12,24,15,12,49,12,15])\n",
    "print(\"Moda \")\n",
    "pd.Series.mode(lista_panda)"
   ]
  },
  {
   "cell_type": "code",
   "execution_count": null,
   "id": "7fdf34e9",
   "metadata": {},
   "outputs": [],
   "source": []
  }
 ],
 "metadata": {
  "kernelspec": {
   "display_name": "Python 3 (ipykernel)",
   "language": "python",
   "name": "python3"
  },
  "language_info": {
   "codemirror_mode": {
    "name": "ipython",
    "version": 3
   },
   "file_extension": ".py",
   "mimetype": "text/x-python",
   "name": "python",
   "nbconvert_exporter": "python",
   "pygments_lexer": "ipython3",
   "version": "3.9.7"
  }
 },
 "nbformat": 4,
 "nbformat_minor": 5
}

{
 "cells": [
  {
   "cell_type": "code",
   "execution_count": null,
   "id": "710c9099",
   "metadata": {},
   "outputs": [],
   "source": [
    "import pandas as pd\n",
    "import matplotlib.pyplot as plt\n",
    "import seaborn as sb"
   ]
  },
  {
   "cell_type": "code",
   "execution_count": 9,
   "id": "876951e9",
   "metadata": {},
   "outputs": [
    {
     "name": "stdout",
     "output_type": "stream",
     "text": [
      "      nome  idade sexo  peso  altura  salario e_civil\n",
      "0    teste     22    F    50    1.70     1400       S\n",
      "1  teste03     20    F    62    1.80     3000       C\n",
      "2  teste04     25    F    60    1.55     4800       S\n",
      "3  teste02     15    M    65    1.49     1240       S\n",
      "4  teste05     21    M    57    1.70     2400       C\n"
     ]
    },
    {
     "data": {
      "text/plain": [
       "Text(0, 0.5, 'fi')"
      ]
     },
     "execution_count": 9,
     "metadata": {},
     "output_type": "execute_result"
    },
    {
     "data": {
      "image/png": "[encoded data removed]",
      "text/plain": [
       "<Figure size 432x288 with 1 Axes>"
      ]
     },
     "metadata": {
      "needs_background": "light"
     },
     "output_type": "display_data"
    }
   ],
   "source": [
    "df = pd.read_csv('../arquivos/pessoas.csv')\n",
    "print(df)\n",
    "plt.hist(df['idade'],bins=5)\n",
    "plt.xlabel('Idade')\n",
    "plt.ylabel('fi')"
   ]
  },
  {
   "cell_type": "code",
   "execution_count": null,
   "id": "5a5aacab",
   "metadata": {},
   "outputs": [],
   "source": [
    "df = pd.read_csv('../Arquivo/pessoas.csv')"
   ]
  },
  {
   "cell_type": "code",
   "execution_count": null,
   "id": "564f6b24",
   "metadata": {},
   "outputs": [],
   "source": []
  }
 ],
 "metadata": {
  "kernelspec": {
   "display_name": "Python 3 (ipykernel)",
   "language": "python",
   "name": "python3"
  },
  "language_info": {
   "codemirror_mode": {
    "name": "ipython",
    "version": 3
   },
   "file_extension": ".py",
   "mimetype": "text/x-python",
   "name": "python",
   "nbconvert_exporter": "python",
   "pygments_lexer": "ipython3",
   "version": "3.9.7"
  }
 },
 "nbformat": 4,
 "nbformat_minor": 5
}

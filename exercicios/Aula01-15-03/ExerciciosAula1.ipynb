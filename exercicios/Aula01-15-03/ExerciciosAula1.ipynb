{
  "nbformat": 4,
  "nbformat_minor": 0,
  "metadata": {
    "colab": {
      "name": "ExerciciosAula1.ipynb",
      "provenance": [],
      "collapsed_sections": []
    },
    "kernelspec": {
      "name": "python3",
      "display_name": "Python 3"
    },
    "language_info": {
      "name": "python"
    }
  },
  "cells": [
    {
      "cell_type": "markdown",
      "source": [
        "Exer 01"
      ],
      "metadata": {
        "id": "0EwBWI1M2ggq"
      }
    },
    {
      "cell_type": "code",
      "source": [
        "aExer01 = []\n",
        "for number in range(1, 10):\n",
        "  lista.append(number)\n",
        "print(aExer01) "
      ],
      "metadata": {
        "colab": {
          "base_uri": "https://localhost:8080/"
        },
        "id": "OwgQmU-3udcJ",
        "outputId": "05cf4e50-5aed-48e9-e815-3a917617bade"
      },
      "execution_count": null,
      "outputs": [
        {
          "output_type": "stream",
          "name": "stdout",
          "text": [
            "[1, 2, 3, 4, 5, 6, 7, 8, 9]\n"
          ]
        }
      ]
    },
    {
      "cell_type": "markdown",
      "source": [
        "Exer 02"
      ],
      "metadata": {
        "id": "tWcyEsmr2lv8"
      }
    },
    {
      "cell_type": "code",
      "source": [
        "class ClassExer02:\n",
        "    number = [12, 31, 24]\n",
        "\n",
        "\n",
        "aExer02 = []\n",
        "for x in range(1, 5): \n",
        "  exer = ClassExer02.number\n",
        "  aExer02.append(exer)\n",
        "  \n",
        "print(aExer02)"
      ],
      "metadata": {
        "colab": {
          "base_uri": "https://localhost:8080/"
        },
        "id": "Acn6W6aF2fz7",
        "outputId": "36296bf1-5d3c-43ce-fa97-7c5dfe3a49d0"
      },
      "execution_count": null,
      "outputs": [
        {
          "output_type": "stream",
          "name": "stdout",
          "text": [
            "[[12, 31, 24], [12, 31, 24], [12, 31, 24], [12, 31, 24]]\n"
          ]
        }
      ]
    },
    {
      "cell_type": "markdown",
      "source": [
        "Exer 03"
      ],
      "metadata": {
        "id": "TGch8YRy6RQe"
      }
    },
    {
      "cell_type": "code",
      "source": [
        "String1 = \"Hello\"\n",
        "String2 = \"world!\"\n",
        "aExer03 = String1 +\" \"+ String2\n",
        "\n",
        "aExer03"
      ],
      "metadata": {
        "colab": {
          "base_uri": "https://localhost:8080/",
          "height": 35
        },
        "id": "KZjgbxv02gD2",
        "outputId": "ed177b21-1038-4a63-ca3c-b23601c89718"
      },
      "execution_count": null,
      "outputs": [
        {
          "output_type": "execute_result",
          "data": {
            "text/plain": [
              "'Hello world!'"
            ],
            "application/vnd.google.colaboratory.intrinsic+json": {
              "type": "string"
            }
          },
          "metadata": {},
          "execution_count": 19
        }
      ]
    },
    {
      "cell_type": "markdown",
      "source": [
        "Exer 04"
      ],
      "metadata": {
        "id": "ITjqyLmd6pQ6"
      }
    },
    {
      "cell_type": "code",
      "source": [
        "aExer04 = (1,2,3,4,4,4,5)\n",
        "i = aExer04.count(4)\n",
        "i"
      ],
      "metadata": {
        "colab": {
          "base_uri": "https://localhost:8080/"
        },
        "id": "JYhlIkQW6q1w",
        "outputId": "d9f52cf0-5515-4f91-f7bf-f531a648ad13"
      },
      "execution_count": null,
      "outputs": [
        {
          "output_type": "execute_result",
          "data": {
            "text/plain": [
              "3"
            ]
          },
          "metadata": {},
          "execution_count": 28
        }
      ]
    },
    {
      "cell_type": "markdown",
      "source": [
        "Exer05"
      ],
      "metadata": {
        "id": "k1d5Ma359vfj"
      }
    },
    {
      "cell_type": "code",
      "source": [
        "aExer05 = {}\n",
        "aExer05"
      ],
      "metadata": {
        "id": "eECwfqlU7hUv",
        "colab": {
          "base_uri": "https://localhost:8080/"
        },
        "outputId": "cb4d596e-8f07-4c7e-c360-bc514645bf5d"
      },
      "execution_count": null,
      "outputs": [
        {
          "output_type": "execute_result",
          "data": {
            "text/plain": [
              "{}"
            ]
          },
          "metadata": {},
          "execution_count": 29
        }
      ]
    },
    {
      "cell_type": "markdown",
      "source": [
        "Exer06"
      ],
      "metadata": {
        "id": "uYKusdCs-nJb"
      }
    },
    {
      "cell_type": "code",
      "source": [
        "aExer06 = {\"chave1\":1, \"chave2\":2, \"chave3\":3}\n",
        "\n",
        "aExer06"
      ],
      "metadata": {
        "colab": {
          "base_uri": "https://localhost:8080/"
        },
        "id": "oyp_YfTN-lLL",
        "outputId": "5b1c1164-c74c-4930-dcb4-35e49f3413fe"
      },
      "execution_count": null,
      "outputs": [
        {
          "output_type": "execute_result",
          "data": {
            "text/plain": [
              "{'chave1': 1, 'chave2': 2, 'chave3': 3}"
            ]
          },
          "metadata": {},
          "execution_count": 30
        }
      ]
    },
    {
      "cell_type": "markdown",
      "source": [
        "Exer07"
      ],
      "metadata": {
        "id": "McCqMg-9-m18"
      }
    },
    {
      "cell_type": "code",
      "source": [
        "aExer07 = {\"chave1\":1, \"chave2\":2, \"chave3\":3}\n",
        "aExer07[\"chave4\"] = 4\n",
        "\n",
        "aExer07"
      ],
      "metadata": {
        "id": "5aQrVNkY--FS",
        "colab": {
          "base_uri": "https://localhost:8080/"
        },
        "outputId": "a81d147d-c11c-47f9-f89d-b4d509bab513"
      },
      "execution_count": null,
      "outputs": [
        {
          "output_type": "execute_result",
          "data": {
            "text/plain": [
              "{'chave1': 1, 'chave2': 2, 'chave3': 3, 'chave4': 4}"
            ]
          },
          "metadata": {},
          "execution_count": 33
        }
      ]
    },
    {
      "cell_type": "markdown",
      "source": [
        "Exer 08"
      ],
      "metadata": {
        "id": "8VdSuh_TPQzd"
      }
    },
    {
      "cell_type": "code",
      "source": [
        "aExer08 = {\"chave1\":1, \"chave2\":[2, 3], \"chave3\":3}\n",
        "\n",
        "aExer08"
      ],
      "metadata": {
        "colab": {
          "base_uri": "https://localhost:8080/"
        },
        "id": "pX1IXYQjPb1D",
        "outputId": "653c9830-6823-4778-87cb-184b8e3476f2"
      },
      "execution_count": null,
      "outputs": [
        {
          "output_type": "execute_result",
          "data": {
            "text/plain": [
              "{'chave1': 1, 'chave2': [2, 3], 'chave3': 3}"
            ]
          },
          "metadata": {},
          "execution_count": 34
        }
      ]
    },
    {
      "cell_type": "markdown",
      "source": [
        "Exer 09"
      ],
      "metadata": {
        "id": "pNsmNBSWPtNR"
      }
    },
    {
      "cell_type": "code",
      "source": [
        "aExer09 = [\"exer09\", (2,8),{\"elemento1\":1, \"elemento2\":2}, 4.6]\n",
        "\n",
        "aExer09"
      ],
      "metadata": {
        "colab": {
          "base_uri": "https://localhost:8080/"
        },
        "id": "0Pn5Pwf_PsRp",
        "outputId": "f643e739-7c7e-48b0-f35b-5046c14e6720"
      },
      "execution_count": null,
      "outputs": [
        {
          "output_type": "execute_result",
          "data": {
            "text/plain": [
              "['exer09', (2, 8), {'elemento1': 1, 'elemento2': 2}, 4.6]"
            ]
          },
          "metadata": {},
          "execution_count": 35
        }
      ]
    },
    {
      "cell_type": "markdown",
      "source": [
        "Exer 10"
      ],
      "metadata": {
        "id": "KixanS7VQZYt"
      }
    },
    {
      "cell_type": "code",
      "source": [
        "frase = 'Cientista de Dados é o profissional mais relevante do século XXI'\n",
        "aExer10 = frase[:18]\n",
        "\n",
        "aExer10"
      ],
      "metadata": {
        "colab": {
          "base_uri": "https://localhost:8080/",
          "height": 35
        },
        "id": "Y2PftfaOQWpt",
        "outputId": "9cc29490-ecc5-4d47-9995-538139f03e89"
      },
      "execution_count": null,
      "outputs": [
        {
          "output_type": "execute_result",
          "data": {
            "text/plain": [
              "'Cientista de Dados'"
            ],
            "application/vnd.google.colaboratory.intrinsic+json": {
              "type": "string"
            }
          },
          "metadata": {},
          "execution_count": 36
        }
      ]
    }
  ]
}
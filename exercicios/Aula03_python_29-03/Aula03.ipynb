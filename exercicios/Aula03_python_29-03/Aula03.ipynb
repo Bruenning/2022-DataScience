{
 "cells": [
  {
   "cell_type": "markdown",
   "id": "18161663",
   "metadata": {},
   "source": [
    "Exer01"
   ]
  },
  {
   "cell_type": "code",
   "execution_count": null,
   "id": "e3518d7d",
   "metadata": {},
   "outputs": [],
   "source": [
    "exer01Pares = open(\"arquivos/pares.txt\", \"w\")\n",
    "exer01Impares = open(\"arquivos/impares.txt\", \"w\")\n",
    "for i in range(1000):\n",
    "    if(i % 2 == 0):\n",
    "        exer01Pares.write(str(i)+\",\")\n",
    "    else:\n",
    "        exer01Impares.write(str(i)+\",\")\n",
    "        \n",
    "exer01Pares.close()\n",
    "exer01Impares.close()"
   ]
  },
  {
   "cell_type": "code",
   "execution_count": null,
   "id": "bdc76421",
   "metadata": {},
   "outputs": [],
   "source": [
    "exer01Pares = open(\"arquivos/pares.txt\", \"r\")\n",
    "exer01Impares = open(\"arquivos/impares.txt\", \"r\")\n",
    "\n",
    "lst1 =[exer01Pares.read().split(',')]\n",
    "lst2 = [exer01Impares.read().split(',')]\n",
    "print(\"Pares: \")\n",
    "lst1\n",
    "print(\"impares: \")\n",
    "lst2"
   ]
  },
  {
   "cell_type": "markdown",
   "id": "e40b2b68",
   "metadata": {},
   "source": [
    "Exer02"
   ]
  },
  {
   "cell_type": "code",
   "execution_count": 36,
   "id": "516ae42f",
   "metadata": {},
   "outputs": [
    {
     "ename": "TypeError",
     "evalue": "map() must have at least two arguments.",
     "output_type": "error",
     "traceback": [
      "\u001b[1;31m---------------------------------------------------------------------------\u001b[0m",
      "\u001b[1;31mTypeError\u001b[0m                                 Traceback (most recent call last)",
      "\u001b[1;32mC:\\Users\\GUILHE~1\\AppData\\Local\\Temp/ipykernel_10020/748722162.py\u001b[0m in \u001b[0;36m<module>\u001b[1;34m\u001b[0m\n\u001b[0;32m      1\u001b[0m \u001b[0mexer02Notas\u001b[0m \u001b[1;33m=\u001b[0m \u001b[0mopen\u001b[0m\u001b[1;33m(\u001b[0m\u001b[1;34m\"arquivos/notas_estudantes.txt\"\u001b[0m\u001b[1;33m,\u001b[0m \u001b[1;34m\"r\"\u001b[0m\u001b[1;33m)\u001b[0m\u001b[1;33m\u001b[0m\u001b[1;33m\u001b[0m\u001b[0m\n\u001b[1;32m----> 2\u001b[1;33m \u001b[0mlst\u001b[0m \u001b[1;33m=\u001b[0m \u001b[0mlist\u001b[0m\u001b[1;33m(\u001b[0m\u001b[0mmap\u001b[0m\u001b[1;33m(\u001b[0m\u001b[0mexer02Notas\u001b[0m\u001b[1;33m.\u001b[0m\u001b[0mread\u001b[0m\u001b[1;33m(\u001b[0m\u001b[1;33m)\u001b[0m\u001b[1;33m)\u001b[0m\u001b[1;33m)\u001b[0m\u001b[1;33m\u001b[0m\u001b[1;33m\u001b[0m\u001b[0m\n\u001b[0m\u001b[0;32m      3\u001b[0m \u001b[1;33m\u001b[0m\u001b[0m\n\u001b[0;32m      4\u001b[0m \u001b[0mlst\u001b[0m\u001b[1;33m\u001b[0m\u001b[1;33m\u001b[0m\u001b[0m\n",
      "\u001b[1;31mTypeError\u001b[0m: map() must have at least two arguments."
     ]
    }
   ],
   "source": [
    "exer02Notas = open(\"arquivos/notas_estudantes.txt\", \"r\")\n",
    "lst = list(map(lambda x: exer02Notas.read()))\n",
    "\n",
    "lst"
   ]
  },
  {
   "cell_type": "code",
   "execution_count": null,
   "id": "e56d3586",
   "metadata": {},
   "outputs": [],
   "source": []
  }
 ],
 "metadata": {
  "kernelspec": {
   "display_name": "Python 3 (ipykernel)",
   "language": "python",
   "name": "python3"
  },
  "language_info": {
   "codemirror_mode": {
    "name": "ipython",
    "version": 3
   },
   "file_extension": ".py",
   "mimetype": "text/x-python",
   "name": "python",
   "nbconvert_exporter": "python",
   "pygments_lexer": "ipython3",
   "version": "3.9.7"
  }
 },
 "nbformat": 4,
 "nbformat_minor": 5
}

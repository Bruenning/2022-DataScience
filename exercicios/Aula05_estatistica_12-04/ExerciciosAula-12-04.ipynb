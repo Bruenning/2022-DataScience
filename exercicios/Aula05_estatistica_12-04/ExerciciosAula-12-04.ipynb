{
 "cells": [
  {
   "cell_type": "code",
   "execution_count": 1,
   "id": "3ca2cf5d",
   "metadata": {},
   "outputs": [
    {
     "name": "stdout",
     "output_type": "stream",
     "text": [
      "                 CIDADE  COMBUSTIVEL  POSTO  PRECO\\t\n",
      "A gasolina 7.50    6.90         7.85   6.40     7.20\n",
      "  etanol   4.25    4.00         3.80   4.95     4.80\n",
      "  diesel   6.45    6.50         6.90   7.15     7.05\n",
      "B gasolina 9.05    7.30         6.75   7.05     7.00\n",
      "  etanol   4.05    3.98         4.05   4.05     3.95\n",
      "  diesel   6.50    6.55         4.49   6.89     7.10\n",
      "C gasolina 6.85    7.25         7.29   6.99     7.15\n",
      "  etanol   3.99    3.98         4.15   4.05     3.99\n",
      "  diesel   7.65    6.05         6.10   7.55     5.99\n",
      "Desvio padrão =  1.4926296291701244\n"
     ]
    }
   ],
   "source": [
    "import pandas as pd\n",
    "import numpy as np\n",
    "import statistics as st\n",
    "\n",
    "lista = pd.read_csv(\"COMBUSTÍVEIS.csv\")\n",
    "print(lista)\n",
    "print(\"Desvio padrão = \", np.std(lista['COMBUSTIVEL']))"
   ]
  },
  {
   "cell_type": "code",
   "execution_count": null,
   "id": "8a181104",
   "metadata": {},
   "outputs": [],
   "source": []
  }
 ],
 "metadata": {
  "kernelspec": {
   "display_name": "Python 3 (ipykernel)",
   "language": "python",
   "name": "python3"
  },
  "language_info": {
   "codemirror_mode": {
    "name": "ipython",
    "version": 3
   },
   "file_extension": ".py",
   "mimetype": "text/x-python",
   "name": "python",
   "nbconvert_exporter": "python",
   "pygments_lexer": "ipython3",
   "version": "3.9.7"
  }
 },
 "nbformat": 4,
 "nbformat_minor": 5
}

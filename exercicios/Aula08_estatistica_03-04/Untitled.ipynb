{
 "cells": [
  {
   "cell_type": "code",
   "execution_count": 5,
   "id": "fdc430c3",
   "metadata": {},
   "outputs": [],
   "source": [
    "import pandas as pd\n",
    "import matplotlib.pyplot as plt\n",
    "import seaborn as sns"
   ]
  },
  {
   "cell_type": "markdown",
   "id": "6e65766d",
   "metadata": {},
   "source": [
    "Exerciocio 01"
   ]
  },
  {
   "cell_type": "code",
   "execution_count": 83,
   "id": "d94ddcf4",
   "metadata": {},
   "outputs": [
    {
     "name": "stdout",
     "output_type": "stream",
     "text": [
      "     Ano  Matrículas\n",
      "0   2010        3400\n",
      "1   2011        3800\n",
      "2   2012        3550\n",
      "3   2013        3700\n",
      "4   2014        3780\n",
      "5   2015        3600\n",
      "6   2016        3200\n",
      "7   2017        3340\n",
      "8   2018        3100\n",
      "9   2019        2870\n",
      "10  2020        2200\n",
      "11  2021        1960\n"
     ]
    },
    {
     "data": {
      "image/png": "[encoded data removed]",
      "text/plain": [
       "<Figure size 432x288 with 1 Axes>"
      ]
     },
     "metadata": {
      "needs_background": "light"
     },
     "output_type": "display_data"
    }
   ],
   "source": [
    "df = pd.read_csv('matriculas.csv')\n",
    "ano = df['Ano']\n",
    "matricula = df['Matriculas']\n",
    "ano_max = max(ano)\n",
    "ano_min = min(ano)\n",
    "tabela = pd.DataFrame({'Ano':ano, 'Matrículas':matricula})\n",
    "print(tabela)\n",
    "grafico = sns.barplot(x = ano, y = matricula, data = tabela)\n"
   ]
  }
 ],
 "metadata": {
  "kernelspec": {
   "display_name": "Python 3 (ipykernel)",
   "language": "python",
   "name": "python3"
  },
  "language_info": {
   "codemirror_mode": {
    "name": "ipython",
    "version": 3
   },
   "file_extension": ".py",
   "mimetype": "text/x-python",
   "name": "python",
   "nbconvert_exporter": "python",
   "pygments_lexer": "ipython3",
   "version": "3.9.7"
  }
 },
 "nbformat": 4,
 "nbformat_minor": 5
}
